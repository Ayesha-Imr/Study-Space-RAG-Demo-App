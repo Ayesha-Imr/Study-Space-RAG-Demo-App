{
 "cells": [
  {
   "cell_type": "markdown",
   "metadata": {},
   "source": [
    "### Loading documents (pdf and word files)"
   ]
  },
  {
   "cell_type": "code",
   "execution_count": 10,
   "metadata": {},
   "outputs": [
    {
     "name": "stdout",
     "output_type": "stream",
     "text": [
      "Loaded 7 documents from the folder.\n"
     ]
    }
   ],
   "source": [
    "from langchain_community.document_loaders import PyPDFLoader, Docx2txtLoader\n",
    "from langchain_text_splitters import RecursiveCharacterTextSplitter\n",
    "from typing import List\n",
    "from langchain_core.documents import Document\n",
    "import os\n",
    "\n",
    "def load_documents(folder_path: str) -> List[Document]:\n",
    "    documents = []\n",
    "    for filename in os.listdir(folder_path):\n",
    "        file_path = os.path.join(folder_path, filename)\n",
    "        if filename.endswith('.pdf'):\n",
    "            loader = PyPDFLoader(file_path)\n",
    "        elif filename.endswith('.docx'):\n",
    "            loader = Docx2txtLoader(file_path)\n",
    "        else:\n",
    "            print(f\"Unsupported file type: {filename}\")\n",
    "            continue\n",
    "        documents.extend(loader.load())\n",
    "    return documents\n",
    "\n",
    "folder_path = \"content/docs\"\n",
    "documents = load_documents(folder_path)\n",
    "print(f\"Loaded {len(documents)} documents from the folder.\")\n"
   ]
  },
  {
   "cell_type": "markdown",
   "metadata": {},
   "source": [
    "### Splitting documents"
   ]
  },
  {
   "cell_type": "code",
   "execution_count": 11,
   "metadata": {},
   "outputs": [
    {
     "name": "stdout",
     "output_type": "stream",
     "text": [
      "Split the documents into 14 chunks.\n"
     ]
    }
   ],
   "source": [
    "text_splitter = RecursiveCharacterTextSplitter(\n",
    "    chunk_size=1000,\n",
    "    chunk_overlap=200,\n",
    "    length_function=len\n",
    ")\n",
    "\n",
    "splits = text_splitter.split_documents(documents)\n",
    "print(f\"Split the documents into {len(splits)} chunks.\")\n"
   ]
  },
  {
   "cell_type": "code",
   "execution_count": 12,
   "metadata": {},
   "outputs": [
    {
     "name": "stdout",
     "output_type": "stream",
     "text": [
      "page_content='Question: \n",
      "Explain why it is impossible to design a perfectly secure Network & Information \n",
      "System. \n",
      "Answer: \n",
      "It is impossible to design a perfectly secure Network & Information System due to the \n",
      "following reasons: \n",
      "1. Evolving Threats: Cybersecurity threats are constantly changing. Attackers develop \n",
      "new techniques and exploit previously unknown vulnerabilities, making it \n",
      "impossible to anticipate and counter all potential attacks. \n",
      "2. Human Error: Many security breaches result from mistakes made by users or \n",
      "administrators, such as weak passwords, improper configurations, or falling victim \n",
      "to social engineering attacks. Human behavior is inherently unpredictable and \n",
      "cannot be fully secured. \n",
      "3. Complexity of Systems: Modern systems are highly complex, with multiple \n",
      "interconnected components. This complexity increases the likelihood of \n",
      "vulnerabilities that attackers can exploit. Ensuring every component is secure is \n",
      "practically unachievable. \n",
      "4. Resource Limitations: Implementing security measures involves costs and trade-\n",
      "offs, such as reduced system performance or higher maintenance requirements. \n",
      "Organizations often cannot afford the resources needed for comprehensive \n",
      "security. \n",
      "5. Conflict Between Usability and Security: Strong security measures often make \n",
      "systems harder to use, leading to resistance from users. Balancing usability with \n",
      "security inevitably creates gaps that attackers can exploit. \n",
      "These challenges ensure that absolute security remains unattainable; instead, the goal is \n",
      "to mitigate risks to an acceptable level through continuous monitoring and updating of \n",
      "security measures. \n",
      "Question: \n",
      "(b) DETERMINE the following Denial of Service Attacks with the help of example [CLO-\n",
      "2] [6 Marks] ' metadata={'source': 'content/docs\\\\nis past papers.pdf', 'page': 0}\n"
     ]
    }
   ],
   "source": [
    "print(documents[0])"
   ]
  },
  {
   "cell_type": "code",
   "execution_count": 13,
   "metadata": {},
   "outputs": [
    {
     "name": "stdout",
     "output_type": "stream",
     "text": [
      "page_content='interconnected components. This complexity increases the likelihood of \n",
      "vulnerabilities that attackers can exploit. Ensuring every component is secure is \n",
      "practically unachievable. \n",
      "4. Resource Limitations: Implementing security measures involves costs and trade-\n",
      "offs, such as reduced system performance or higher maintenance requirements. \n",
      "Organizations often cannot afford the resources needed for comprehensive \n",
      "security. \n",
      "5. Conflict Between Usability and Security: Strong security measures often make \n",
      "systems harder to use, leading to resistance from users. Balancing usability with \n",
      "security inevitably creates gaps that attackers can exploit. \n",
      "These challenges ensure that absolute security remains unattainable; instead, the goal is \n",
      "to mitigate risks to an acceptable level through continuous monitoring and updating of \n",
      "security measures. \n",
      "Question: \n",
      "(b) DETERMINE the following Denial of Service Attacks with the help of example [CLO-\n",
      "2] [6 Marks]' metadata={'source': 'content/docs\\\\nis past papers.pdf', 'page': 0}\n"
     ]
    }
   ],
   "source": [
    "print(splits[1])"
   ]
  },
  {
   "cell_type": "code",
   "execution_count": 14,
   "metadata": {},
   "outputs": [
    {
     "name": "stdout",
     "output_type": "stream",
     "text": [
      "{'source': 'content/docs\\\\nis past papers.pdf', 'page': 0}\n"
     ]
    }
   ],
   "source": [
    "print(splits[0].metadata)"
   ]
  },
  {
   "cell_type": "markdown",
   "metadata": {},
   "source": [
    "###  Creating embeddings using Cohere embeddings"
   ]
  },
  {
   "cell_type": "markdown",
   "metadata": {},
   "source": [
    "Get (free trial) API Key here: https://dashboard.cohere.com/api-keys"
   ]
  },
  {
   "cell_type": "code",
   "execution_count": 15,
   "metadata": {},
   "outputs": [],
   "source": [
    "import getpass\n",
    "import os\n",
    "\n",
    "if not os.getenv(\"COHERE_API_KEY\"):\n",
    "    os.environ[\"COHERE_API_KEY\"] = os.getenv(\"COHERE_API_KEY\")"
   ]
  },
  {
   "cell_type": "code",
   "execution_count": 16,
   "metadata": {},
   "outputs": [],
   "source": [
    "from langchain_cohere import CohereEmbeddings\n",
    "\n",
    "embeddings = CohereEmbeddings(\n",
    "    model=\"embed-english-light-v3.0\",\n",
    ")"
   ]
  },
  {
   "cell_type": "code",
   "execution_count": 17,
   "metadata": {},
   "outputs": [
    {
     "name": "stdout",
     "output_type": "stream",
     "text": [
      "Created embeddings for 14 document chunks.\n"
     ]
    }
   ],
   "source": [
    "document_embeddings = embeddings.embed_documents([split.page_content for split in splits])\n",
    "print(f\"Created embeddings for {len(document_embeddings)} document chunks.\")"
   ]
  },
  {
   "cell_type": "markdown",
   "metadata": {},
   "source": [
    "### Set up the vector store for storing the embeddings (using chroma here)"
   ]
  },
  {
   "cell_type": "code",
   "execution_count": 18,
   "metadata": {},
   "outputs": [
    {
     "name": "stdout",
     "output_type": "stream",
     "text": [
      "Vector store created and persisted to './chroma_db'\n"
     ]
    }
   ],
   "source": [
    "from langchain_chroma import Chroma\n",
    "\n",
    "collection_name = \"my_collection\"\n",
    "vectorstore = Chroma.from_documents(\n",
    "    collection_name=collection_name,\n",
    "    documents=splits,\n",
    "    embedding=embeddings,\n",
    "    persist_directory=\"./chroma_db\"\n",
    ")\n",
    "print(\"Vector store created and persisted to './chroma_db'\")\n"
   ]
  },
  {
   "cell_type": "markdown",
   "metadata": {},
   "source": [
    "### Performing vector search"
   ]
  },
  {
   "cell_type": "code",
   "execution_count": 20,
   "metadata": {},
   "outputs": [
    {
     "name": "stdout",
     "output_type": "stream",
     "text": [
      "\n",
      "Top 2 most relevant chunks for the query: 'Why is it difficult to implement security in a system?'\n",
      "\n",
      "Result 1:\n",
      "Source: content/docs\\nis past papers.pdf\n",
      "Content: interconnected components. This complexity increases the likelihood of \n",
      "vulnerabilities that attackers can exploit. Ensuring every component is secure is \n",
      "practically unachievable. \n",
      "4. Resource Limitations: Implementing security measures involves costs and trade-\n",
      "offs, such as reduced system performance or higher maintenance requirements. \n",
      "Organizations often cannot afford the resources needed for comprehensive \n",
      "security. \n",
      "5. Conflict Between Usability and Security: Strong security measures often make \n",
      "systems harder to use, leading to resistance from users. Balancing usability with \n",
      "security inevitably creates gaps that attackers can exploit. \n",
      "These challenges ensure that absolute security remains unattainable; instead, the goal is \n",
      "to mitigate risks to an acceptable level through continuous monitoring and updating of \n",
      "security measures. \n",
      "Question: \n",
      "(b) DETERMINE the following Denial of Service Attacks with the help of example [CLO-\n",
      "2] [6 Marks]\n",
      "\n",
      "Result 2:\n",
      "Source: content/docs\\nis past papers.pdf\n",
      "Content: Question: \n",
      "Explain why it is impossible to design a perfectly secure Network & Information \n",
      "System. \n",
      "Answer: \n",
      "It is impossible to design a perfectly secure Network & Information System due to the \n",
      "following reasons: \n",
      "1. Evolving Threats: Cybersecurity threats are constantly changing. Attackers develop \n",
      "new techniques and exploit previously unknown vulnerabilities, making it \n",
      "impossible to anticipate and counter all potential attacks. \n",
      "2. Human Error: Many security breaches result from mistakes made by users or \n",
      "administrators, such as weak passwords, improper configurations, or falling victim \n",
      "to social engineering attacks. Human behavior is inherently unpredictable and \n",
      "cannot be fully secured. \n",
      "3. Complexity of Systems: Modern systems are highly complex, with multiple \n",
      "interconnected components. This complexity increases the likelihood of \n",
      "vulnerabilities that attackers can exploit. Ensuring every component is secure is \n",
      "practically unachievable.\n",
      "\n"
     ]
    }
   ],
   "source": [
    "query = \"Why is it difficult to implement security in a system?\"\n",
    "search_results = vectorstore.similarity_search(query, k=2)\n",
    "print(f\"\\nTop 2 most relevant chunks for the query: '{query}'\\n\")\n",
    "for i, result in enumerate(search_results, 1):\n",
    "    print(f\"Result {i}:\")\n",
    "    print(f\"Source: {result.metadata.get('source', 'Unknown')}\")\n",
    "    print(f\"Content: {result.page_content}\")\n",
    "    print()\n"
   ]
  },
  {
   "cell_type": "markdown",
   "metadata": {},
   "source": [
    "### Creating a retriever for the RAG chain"
   ]
  },
  {
   "cell_type": "code",
   "execution_count": 21,
   "metadata": {},
   "outputs": [
    {
     "name": "stdout",
     "output_type": "stream",
     "text": [
      "[Document(metadata={'page': 0, 'source': 'content/docs\\\\nis past papers.pdf'}, page_content='interconnected components. This complexity increases the likelihood of \\nvulnerabilities that attackers can exploit. Ensuring every component is secure is \\npractically unachievable. \\n4. Resource Limitations: Implementing security measures involves costs and trade-\\noffs, such as reduced system performance or higher maintenance requirements. \\nOrganizations often cannot afford the resources needed for comprehensive \\nsecurity. \\n5. Conflict Between Usability and Security: Strong security measures often make \\nsystems harder to use, leading to resistance from users. Balancing usability with \\nsecurity inevitably creates gaps that attackers can exploit. \\nThese challenges ensure that absolute security remains unattainable; instead, the goal is \\nto mitigate risks to an acceptable level through continuous monitoring and updating of \\nsecurity measures. \\nQuestion: \\n(b) DETERMINE the following Denial of Service Attacks with the help of example [CLO-\\n2] [6 Marks]'), Document(metadata={'page': 0, 'source': 'content/docs\\\\nis past papers.pdf'}, page_content='Question: \\nExplain why it is impossible to design a perfectly secure Network & Information \\nSystem. \\nAnswer: \\nIt is impossible to design a perfectly secure Network & Information System due to the \\nfollowing reasons: \\n1. Evolving Threats: Cybersecurity threats are constantly changing. Attackers develop \\nnew techniques and exploit previously unknown vulnerabilities, making it \\nimpossible to anticipate and counter all potential attacks. \\n2. Human Error: Many security breaches result from mistakes made by users or \\nadministrators, such as weak passwords, improper configurations, or falling victim \\nto social engineering attacks. Human behavior is inherently unpredictable and \\ncannot be fully secured. \\n3. Complexity of Systems: Modern systems are highly complex, with multiple \\ninterconnected components. This complexity increases the likelihood of \\nvulnerabilities that attackers can exploit. Ensuring every component is secure is \\npractically unachievable.')]\n"
     ]
    }
   ],
   "source": [
    "retriever = vectorstore.as_retriever(search_kwargs={\"k\": 2})\n",
    "retriever_results = retriever.invoke(\"Why is it difficult to implement security in a system?\")\n",
    "print(retriever_results)"
   ]
  },
  {
   "cell_type": "markdown",
   "metadata": {},
   "source": [
    "### Building the RAG chain"
   ]
  },
  {
   "cell_type": "markdown",
   "metadata": {},
   "source": [
    "We'll use Llama 3.3 as our LLM of choice, through Groq. Get Groq API Key here: https://console.groq.com/keys"
   ]
  },
  {
   "cell_type": "code",
   "execution_count": 26,
   "metadata": {},
   "outputs": [],
   "source": [
    "from dotenv import load_dotenv\n",
    "import os\n",
    "\n",
    "load_dotenv()\n",
    "groq_api_key = os.getenv(\"GROQ_API_KEY\")\n",
    "os.environ[\"GROQ_API_KEY\"] = groq_api_key"
   ]
  },
  {
   "cell_type": "code",
   "execution_count": 27,
   "metadata": {},
   "outputs": [],
   "source": [
    "from langchain_groq import ChatGroq\n",
    "\n",
    "llm = ChatGroq(temperature=0, model_name=\"llama-3.3-70b-versatile\")"
   ]
  },
  {
   "cell_type": "code",
   "execution_count": 28,
   "metadata": {},
   "outputs": [],
   "source": [
    "from langchain_core.prompts import ChatPromptTemplate\n",
    "from langchain.schema.runnable import RunnablePassthrough\n",
    "from langchain_core.output_parsers import StrOutputParser\n",
    "\n",
    "template = \"\"\"Answer the question based only on the following context:\n",
    "{context}\n",
    "Question: {question}\n",
    "Answer: \"\"\"\n",
    "\n",
    "prompt = ChatPromptTemplate.from_template(template)\n",
    "\n",
    "def docs2str(docs):\n",
    "    return \"\\n\\n\".join(doc.page_content for doc in docs)\n",
    "\n",
    "rag_chain = (\n",
    "    {\"context\": retriever | docs2str, \"question\": RunnablePassthrough()}\n",
    "    | prompt\n",
    "    | llm\n",
    "    | StrOutputParser()\n",
    ")\n"
   ]
  },
  {
   "cell_type": "markdown",
   "metadata": {},
   "source": [
    "### Lets test our RAG chain now"
   ]
  },
  {
   "cell_type": "code",
   "execution_count": 30,
   "metadata": {},
   "outputs": [
    {
     "name": "stdout",
     "output_type": "stream",
     "text": [
      "Question: What are different kinds of flooding attacks?\n",
      "Answer: Based on the provided context, there are at least two kinds of flooding attacks:\n",
      "\n",
      "1. TCP SYN Flooding Attacks: This type of attack exploits the TCP three-way handshake mechanism by sending a large number of SYN packets with spoofed source addresses to the server, consuming server resources.\n",
      "\n",
      "2. ICMP Flooding Attacks: This type of attack overwhelms a server by flooding it with ICMP packets, such as echo requests (ping), consuming the target's bandwidth and processing power.\n",
      "\n",
      "Additionally, there is a mention of \"Reflection Attacks\" in the context, but it is not described in detail. It may be a third type of flooding attack, but without more information, it is unclear how it relates to the other two types.\n"
     ]
    }
   ],
   "source": [
    "question = \"What are different kinds of flooding attacks?\"\n",
    "response = rag_chain.invoke(question)\n",
    "print(f\"Question: {question}\")\n",
    "print(f\"Answer: {response}\")\n"
   ]
  },
  {
   "cell_type": "markdown",
   "metadata": {},
   "source": [
    "### Create functions to enable the LLM to output in a structured manner for creating quizzes based on a particular topic"
   ]
  },
  {
   "cell_type": "markdown",
   "metadata": {},
   "source": [
    "We'll use pydantic to enable the LLM to generate structured JSON outputs that can reliably be parsed later "
   ]
  },
  {
   "cell_type": "code",
   "execution_count": 55,
   "metadata": {},
   "outputs": [],
   "source": [
    "from pydantic import BaseModel, Field\n",
    "from typing import List\n",
    "\n",
    "class Quiz(BaseModel):\n",
    "    \"\"\"Model representing a quiz with questions and answers.\"\"\"\n",
    "    questions: List[str] = Field(description=\"List of quiz questions.\")\n",
    "    answers: List[str] = Field(description=\"List of corresponding answers to the quiz questions.\")\n"
   ]
  },
  {
   "cell_type": "code",
   "execution_count": 60,
   "metadata": {},
   "outputs": [],
   "source": [
    "# Bind the Quiz schema to the model\n",
    "quiz_llm = llm.with_structured_output(Quiz)\n"
   ]
  },
  {
   "cell_type": "code",
   "execution_count": 63,
   "metadata": {},
   "outputs": [],
   "source": [
    "from langchain_core.prompts import ChatPromptTemplate\n",
    "\n",
    "quiz_template = \"\"\"\n",
    "Based on the following content, generate a quiz with questions and corresponding answers.\n",
    "\n",
    "Content:\n",
    "{context}\n",
    "\n",
    "The output should be in JSON format with two keys: 'questions' and 'answers'.\n",
    "\"\"\"\n",
    "\n",
    "quiz_prompt = ChatPromptTemplate.from_template(quiz_template)\n"
   ]
  },
  {
   "cell_type": "code",
   "execution_count": 64,
   "metadata": {},
   "outputs": [],
   "source": [
    "from langchain.schema.runnable import RunnablePassthrough\n",
    "\n",
    "def docs_to_string(docs):\n",
    "    return \"\\n\\n\".join(doc.page_content for doc in docs)\n",
    "\n",
    "quiz_chain = (\n",
    "    {\"context\": retriever | docs_to_string, \"question\": RunnablePassthrough()}\n",
    "    | quiz_prompt\n",
    "    | quiz_llm\n",
    ")\n",
    "\n",
    "# User provides a topic\n",
    "topic = \"Network Security\"\n",
    "\n",
    "# Generate the quiz\n",
    "quiz = quiz_chain.invoke(topic)\n"
   ]
  },
  {
   "cell_type": "code",
   "execution_count": 65,
   "metadata": {},
   "outputs": [
    {
     "name": "stdout",
     "output_type": "stream",
     "text": [
      "['Why is it impossible to design a perfectly secure Network & Information System?', 'What is the role of an External Firewall in a network?', 'What is the purpose of a Service Network or DMZ?', 'What is the function of an Internal Firewall?']\n",
      "['Evolving Threats, Human Error, Complexity of Systems', 'Acts as the first layer of defense between the Internet and the internal network', 'Provides limited access to external users and includes public-facing services', 'Provides an additional layer of security by protecting the internal networks from the DMZ']\n"
     ]
    }
   ],
   "source": [
    "print(quiz.questions)\n",
    "print(quiz.answers)\n"
   ]
  },
  {
   "cell_type": "markdown",
   "metadata": {},
   "source": [
    "### Create functions to enable LLM to create MCQs"
   ]
  },
  {
   "cell_type": "code",
   "execution_count": 79,
   "metadata": {},
   "outputs": [],
   "source": [
    "from pydantic import BaseModel, Field\n",
    "from typing import List\n",
    "\n",
    "class MCQ(BaseModel):\n",
    "    \"\"\"Model representing a multiple-choice question.\"\"\"\n",
    "    question: str = Field(description=\"The question text.\")\n",
    "    choices: List[str] = Field(description=\"List of 4 possible answers for the question.\")\n",
    "    correct_answer: str = Field(description=\"The correct answer for the question.\")\n",
    "\n",
    "class MCQQuiz(BaseModel):\n",
    "    \"\"\"Model representing a quiz with multiple-choice questions.\"\"\"\n",
    "    mcqs: List[MCQ] = Field(description=\"List of multiple-choice questions.\")\n"
   ]
  },
  {
   "cell_type": "code",
   "execution_count": 80,
   "metadata": {},
   "outputs": [],
   "source": [
    "# Bind the Quiz schema to the model\n",
    "mcq_llm = llm.with_structured_output(MCQQuiz)\n"
   ]
  },
  {
   "cell_type": "code",
   "execution_count": 81,
   "metadata": {},
   "outputs": [],
   "source": [
    "from langchain_core.prompts import ChatPromptTemplate\n",
    "\n",
    "mcq_template = \"\"\"\n",
    "Based on the following content, generate a set of multiple-choice questions (MCQs). Each question should include:\n",
    "1. A question text.\n",
    "2. A list of 4 choices, including the correct answer and 3 distractors.\n",
    "3. The correct answer.\n",
    "\n",
    "The output should be in JSON format with the following structure:\n",
    "{{\n",
    "    \"mcqs\": [\n",
    "        {{\n",
    "            \"question\": \"Question text here\",\n",
    "            \"choices\": [\"Choice 1\", \"Choice 2\", \"Choice 3\", \"Choice 4\"],\n",
    "            \"correct_answer\": \"The correct choice here\"\n",
    "        }},\n",
    "        ...\n",
    "    ]\n",
    "}}\n",
    "\n",
    "Content:\n",
    "{context}\n",
    "\"\"\"\n",
    "\n",
    "\n",
    "mcq_prompt = ChatPromptTemplate.from_template(mcq_template)\n"
   ]
  },
  {
   "cell_type": "code",
   "execution_count": 82,
   "metadata": {},
   "outputs": [],
   "source": [
    "from langchain.schema.runnable import RunnablePassthrough\n",
    "\n",
    "def docs_to_string(docs):\n",
    "    return \"\\n\\n\".join(doc.page_content for doc in docs)\n",
    "\n",
    "mcq_chain = (\n",
    "    {\"context\": retriever | docs_to_string, \"question\": RunnablePassthrough()}\n",
    "    | mcq_prompt\n",
    "    | mcq_llm\n",
    ")\n",
    "\n",
    "# User provides a topic\n",
    "topic = \"Network Security\"\n",
    "\n",
    "# Generate the quiz\n",
    "mcqs = mcq_chain.invoke(topic)\n"
   ]
  },
  {
   "cell_type": "code",
   "execution_count": 83,
   "metadata": {},
   "outputs": [
    {
     "name": "stdout",
     "output_type": "stream",
     "text": [
      "mcqs=[MCQ(question='Why is it impossible to design a perfectly secure Network & Information System?', choices=['Evolving threats and human error', 'Complexity of systems and lack of funding', 'Only evolving threats', 'Only human error'], correct_answer='Evolving threats and human error'), MCQ(question='What is the primary function of an External Firewall?', choices=['To protect the internal network from the DMZ', 'To filter incoming and outgoing traffic based on security policies', 'To provide public-facing services like web servers', 'To ensure traffic between the DMZ and internal network adheres to security policies'], correct_answer='To filter incoming and outgoing traffic based on security policies'), MCQ(question='What is the purpose of a DMZ (Demilitarized Zone) network?', choices=['To provide direct access to the internal network', 'To include private-facing services like database servers', 'To provide limited access to external users and include public-facing services', 'To protect the internal network from the external firewall'], correct_answer='To provide limited access to external users and include public-facing services'), MCQ(question='What is the function of an Internal Firewall?', choices=['To protect the DMZ from the internal network', 'To provide an additional layer of security by protecting the internal networks from the DMZ', 'To filter incoming traffic from the external firewall', 'To ensure that traffic between the internal network and the external firewall adheres to security policies'], correct_answer='To provide an additional layer of security by protecting the internal networks from the DMZ')]\n"
     ]
    }
   ],
   "source": [
    "print(mcqs)"
   ]
  },
  {
   "cell_type": "markdown",
   "metadata": {},
   "source": [
    "### Create functions to generate flashcards for a topic"
   ]
  },
  {
   "cell_type": "markdown",
   "metadata": {},
   "source": [
    "For this, using pydantic structuring isn't necessary but it still guarantees reliable json outputs ensuring there won't be any parsing issues"
   ]
  },
  {
   "cell_type": "code",
   "execution_count": 92,
   "metadata": {},
   "outputs": [],
   "source": [
    "from pydantic import BaseModel, Field\n",
    "from typing import List\n",
    "\n",
    "class Flashcards(BaseModel):\n",
    "    \"\"\"Model representing flashcard content\"\"\"\n",
    "    flashcard: List[str] = Field(description=\"List of concise, memorable flashcard content.\")\n"
   ]
  },
  {
   "cell_type": "code",
   "execution_count": 93,
   "metadata": {},
   "outputs": [],
   "source": [
    "# Bind the Flashcards schema to the model\n",
    "cards_llm = llm.with_structured_output(Flashcards)\n"
   ]
  },
  {
   "cell_type": "code",
   "execution_count": 94,
   "metadata": {},
   "outputs": [],
   "source": [
    "from langchain_core.prompts import ChatPromptTemplate\n",
    "\n",
    "cards_template = \"\"\"\n",
    "Based on the following content, generate some concise and memorable flashcards.\n",
    "\n",
    "Content:\n",
    "{context}\n",
    "\n",
    "The output should be in JSON format with the key: 'flashcard'.\n",
    "\"\"\"\n",
    "\n",
    "\n",
    "cards_prompt = ChatPromptTemplate.from_template(cards_template)\n"
   ]
  },
  {
   "cell_type": "code",
   "execution_count": 95,
   "metadata": {},
   "outputs": [],
   "source": [
    "from langchain.schema.runnable import RunnablePassthrough\n",
    "\n",
    "def docs_to_string(docs):\n",
    "    return \"\\n\\n\".join(doc.page_content for doc in docs)\n",
    "\n",
    "cards_chain = (\n",
    "    {\"context\": retriever | docs_to_string, \"question\": RunnablePassthrough()}\n",
    "    | cards_prompt\n",
    "    | cards_llm\n",
    ")\n",
    "\n",
    "# User provides a topic\n",
    "topic = \"Network Security\"\n",
    "\n",
    "# Generate the quiz\n",
    "cards = cards_chain.invoke(topic)\n"
   ]
  },
  {
   "cell_type": "code",
   "execution_count": 96,
   "metadata": {},
   "outputs": [
    {
     "name": "stdout",
     "output_type": "stream",
     "text": [
      "flashcard=['Evolving threats make it impossible to anticipate all attacks', 'Human error is a significant factor in security breaches', 'Complex systems increase the likelihood of vulnerabilities', 'External Firewall: first layer of defense', 'DMZ: provides limited access to external users', 'Internal Firewall: protects internal networks from the DMZ']\n"
     ]
    }
   ],
   "source": [
    "print(cards)"
   ]
  },
  {
   "cell_type": "code",
   "execution_count": 97,
   "metadata": {},
   "outputs": [
    {
     "name": "stdout",
     "output_type": "stream",
     "text": [
      "['Evolving threats make it impossible to anticipate all attacks', 'Human error is a significant factor in security breaches', 'Complex systems increase the likelihood of vulnerabilities', 'External Firewall: first layer of defense', 'DMZ: provides limited access to external users', 'Internal Firewall: protects internal networks from the DMZ']\n"
     ]
    }
   ],
   "source": [
    "print(cards.flashcard)"
   ]
  },
  {
   "cell_type": "code",
   "execution_count": null,
   "metadata": {},
   "outputs": [],
   "source": []
  }
 ],
 "metadata": {
  "kernelspec": {
   "display_name": "myenv",
   "language": "python",
   "name": "python3"
  },
  "language_info": {
   "codemirror_mode": {
    "name": "ipython",
    "version": 3
   },
   "file_extension": ".py",
   "mimetype": "text/x-python",
   "name": "python",
   "nbconvert_exporter": "python",
   "pygments_lexer": "ipython3",
   "version": "3.11.5"
  }
 },
 "nbformat": 4,
 "nbformat_minor": 2
}
